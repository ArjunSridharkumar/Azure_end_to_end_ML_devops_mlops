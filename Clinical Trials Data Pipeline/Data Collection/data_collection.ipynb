{
 "cells": [
  {
   "cell_type": "code",
   "execution_count": 2,
   "metadata": {},
   "outputs": [],
   "source": [
    "import pandas as pd"
   ]
  },
  {
   "cell_type": "code",
   "execution_count": 4,
   "metadata": {},
   "outputs": [
    {
     "name": "stdout",
     "output_type": "stream",
     "text": [
      "Index(['NCT Number', 'Study Title', 'Study URL', 'Acronym', 'Study Status',\n",
      "       'Brief Summary', 'Study Results', 'Conditions', 'Interventions',\n",
      "       'Primary Outcome Measures', 'Secondary Outcome Measures',\n",
      "       'Other Outcome Measures', 'Sponsor', 'Collaborators', 'Sex', 'Age',\n",
      "       'Phases', 'Enrollment', 'Funder Type', 'Study Type', 'Study Design',\n",
      "       'Other IDs', 'Start Date', 'Primary Completion Date', 'Completion Date',\n",
      "       'First Posted', 'Results First Posted', 'Last Update Posted',\n",
      "       'Locations', 'Study Documents'],\n",
      "      dtype='object')\n"
     ]
    }
   ],
   "source": [
    "from pytrials.client import ClinicalTrials\n",
    "import pandas as pd\n",
    "# Initialize the ClinicalTrials API client\n",
    "ct = ClinicalTrials()\n",
    "valid_fields = ct.study_fields\n",
    "print (valid_fields)\n",
    "\n",
    "# Define the search condition and status\n",
    "condition = 'heart disease'\n",
    "status = ['RECRUITING']\n",
    "\n",
    "# Fetch the fields you need for the clinical trials\n",
    "# fields = ['NCTId', 'Condition', 'StudyType', 'Phase', 'OverallStatus']\n",
    "fields = ['NCT Number','Study Title','Study URL','Study Status','Brief Summary',\\\n",
    "          'Study Results','Conditions','Interventions','Primary Outcome Measures','Secondary Outcome Measures',\\\n",
    "          'Other Outcome Measures','Sponsor','Collaborators','Sex','Age','Phases','Enrollment','Funder Type',\\\n",
    "          'Study Type','Study Design','Other IDs','Start Date','Primary Completion Date','Completion Date',\"First Posted\",'Results First Posted',\\\n",
    "          'Last Update Posted','Locations','Study Documents']\n",
    "# Perform the query for the specified condition and statuses\n",
    "heart_disease_trials = ct.get_study_fields(\n",
    "    # search_expr=f'{condition} AND (status:{\" OR status:\".join(status)})',\n",
    "    search_expr = 'heart attack AND SEARCH[Location](AREA[LocationCountry]United States AND AREA[LocationStatus]Recruiting)',\n",
    "    fields=fields,\n",
    "    max_studies=1000,\n",
    "    fmt=\"csv\"\n",
    ")\n",
    "\n",
    "# Display the results\n",
    "print(heart_disease_trials)\n"
   ]
  },
  {
   "cell_type": "code",
   "execution_count": null,
   "metadata": {},
   "outputs": [],
   "source": [
    "import pandas as pd\n",
    "heart_disease_trials_df = pd.DataFrame.from_records(heart_disease_trials[1:], columns=heart_disease_trials[0])"
   ]
  },
  {
   "cell_type": "code",
   "execution_count": 6,
   "metadata": {},
   "outputs": [],
   "source": [
    "# data.to_csv(\"clinic_trails.csv\", index= False)"
   ]
  },
  {
   "cell_type": "code",
   "execution_count": 3,
   "metadata": {},
   "outputs": [
    {
     "name": "stdout",
     "output_type": "stream",
     "text": [
      "vitalsign_df columns Index(['subject_id', 'stay_id', 'charttime', 'temperature', 'heartrate',\n",
      "       'resprate', 'o2sat', 'sbp', 'dbp', 'rhythm', 'pain'],\n",
      "      dtype='object')\n",
      "triage_df columns Index(['subject_id', 'stay_id', 'temperature', 'heartrate', 'resprate',\n",
      "       'o2sat', 'sbp', 'dbp', 'pain', 'acuity', 'chiefcomplaint'],\n",
      "      dtype='object')\n",
      "pyxis_df columns Index(['subject_id', 'stay_id', 'charttime', 'med_rn', 'name', 'gsn_rn',\n",
      "       'gsn'],\n",
      "      dtype='object')\n",
      "medrecon_df columns Index(['subject_id', 'stay_id', 'charttime', 'name', 'gsn', 'ndc', 'etc_rn',\n",
      "       'etccode', 'etcdescription'],\n",
      "      dtype='object')\n",
      "edstays_df columns Index(['subject_id', 'hadm_id', 'stay_id', 'intime', 'outtime', 'gender',\n",
      "       'race', 'arrival_transport', 'disposition'],\n",
      "      dtype='object')\n",
      "diagnosis_df columns Index(['subject_id', 'stay_id', 'seq_num', 'icd_code', 'icd_version',\n",
      "       'icd_title'],\n",
      "      dtype='object')\n"
     ]
    }
   ],
   "source": [
    "# vitalsign_df = pd.read_csv(\"./vitalsign.csv\")\n",
    "# triage_df = pd.read_csv(\"./triage.csv\")\n",
    "# pyxis_df = pd.read_csv(\"./pyxis.csv\")\n",
    "# medrecon_df = pd.read_csv(\"./medrecon.csv\")\n",
    "# edstays_df = pd.read_csv(\"./edstays.csv\")\n",
    "# diagnosis_df = pd.read_csv(\"./diagnosis.csv\")\n",
    "# print (\"vitalsign_df columns\",vitalsign_df.columns)\n",
    "# print (\"triage_df columns\",triage_df.columns)\n",
    "# print (\"pyxis_df columns\",pyxis_df.columns)\n",
    "# print (\"medrecon_df columns\",medrecon_df.columns)\n",
    "# print (\"edstays_df columns\",edstays_df.columns)\n",
    "# print (\"diagnosis_df columns\",diagnosis_df.columns)"
   ]
  },
  {
   "cell_type": "code",
   "execution_count": 3,
   "metadata": {},
   "outputs": [
    {
     "name": "stdout",
     "output_type": "stream",
     "text": [
      "Vitalsign Data:    subject_id   stay_id            charttime  temperature  heartrate  \\\n",
      "0    10014729  37887480  2125-03-19 13:22:00          NaN      124.0   \n",
      "1    10014729  37887480  2125-03-19 18:28:00         98.9      106.0   \n",
      "2    10014729  37887480  2125-03-19 13:07:00          NaN      128.0   \n",
      "3    10014729  37887480  2125-03-19 16:23:00         99.8      115.0   \n",
      "4    10014729  37887480  2125-03-19 13:24:00          NaN      125.0   \n",
      "\n",
      "   resprate  o2sat    sbp   dbp             rhythm pain  \n",
      "0      24.0  100.0   93.0  65.0                NaN  NaN  \n",
      "1      18.0  100.0  115.0  70.0  Sinus Tachycardia    5  \n",
      "2      18.0  100.0  132.0  96.0  Sinus Tachycardia  NaN  \n",
      "3      22.0   97.0  114.0  45.0  Sinus Tachycardia    0  \n",
      "4       NaN    NaN    NaN   NaN                NaN  NaN  \n",
      "Triage Data:    subject_id   stay_id  temperature  heartrate  resprate  o2sat  sbp  dbp  \\\n",
      "0    10016742  33211001          NaN        NaN       NaN    NaN  NaN  NaN   \n",
      "1    10032725  30701739          NaN        NaN       NaN    NaN  NaN  NaN   \n",
      "2    10010867  30115213          NaN        NaN       NaN    NaN  NaN  NaN   \n",
      "3    10004235  38926302          NaN        NaN       NaN    NaN  NaN  NaN   \n",
      "4    10027602  36678718          NaN        NaN       NaN    NaN  NaN  NaN   \n",
      "\n",
      "  pain  acuity        chiefcomplaint  \n",
      "0  NaN     NaN             PICC EVAL  \n",
      "1  NaN     NaN          FACIAL DROOP  \n",
      "2  NaN     NaN  MVC/INTUBATED TRAUMA  \n",
      "3  NaN     NaN            S/P ARREST  \n",
      "4  NaN     NaN            HEAD BLEED  \n",
      "Pyxis Data:    subject_id   stay_id            charttime  med_rn     name  gsn_rn     gsn\n",
      "0    10012853  36185653  2175-04-05 06:39:00       4  Aspirin       1  4380.0\n",
      "1    10040025  37401157  2145-10-19 23:53:00       2  Aspirin       1  4380.0\n",
      "2    10014354  30279522  2149-09-17 11:51:00       2  Aspirin       1  4380.0\n",
      "3    10040025  30836087  2145-07-04 10:27:00      10  Aspirin       1  4380.0\n",
      "4    10032725  30701739  2143-03-22 21:48:00       2  Aspirin       1  4376.0\n",
      "MedReconciliation Data:    subject_id   stay_id            charttime              name   gsn  \\\n",
      "0    10023117  31283645  2171-11-07 20:38:00          *acuvite     0   \n",
      "1    10038999  34205403  2132-05-17 21:17:00      *depakote DR     0   \n",
      "2    10002428  38216551  2160-07-15 19:43:00  *nutrient drink      0   \n",
      "3    10016742  33335871  2178-07-22 06:08:00     *iron liquid      0   \n",
      "4    10040025  32034003  2143-03-10 23:20:00       amoxicillin  8996   \n",
      "\n",
      "           ndc  etc_rn  etccode              etcdescription  \n",
      "0            0       1      NaN                         NaN  \n",
      "1            0       1      NaN                         NaN  \n",
      "2            0       1      NaN                         NaN  \n",
      "3            0       1      NaN                         NaN  \n",
      "4  10544054615       1      3.0  Aminopenicillin Antibiotic  \n",
      "ED Stays Data:    subject_id     hadm_id   stay_id               intime              outtime  \\\n",
      "0    10014729  23300884.0  37887480  2125-03-19 12:36:00  2125-03-19 16:59:47   \n",
      "1    10018328  26706939.0  34176810  2154-02-05 17:09:00  2154-02-05 22:54:00   \n",
      "2    10018328         NaN  32103106  2154-08-03 15:31:00  2154-08-03 22:29:00   \n",
      "3    10020640  27984218.0  38797992  2153-02-12 21:59:00  2153-02-13 01:38:00   \n",
      "4    10015272  27993466.0  33473053  2137-06-12 16:54:00  2137-06-12 18:37:22   \n",
      "\n",
      "  gender                    race arrival_transport disposition  \n",
      "0      F  WHITE - OTHER EUROPEAN           WALK IN    ADMITTED  \n",
      "1      F                   WHITE         AMBULANCE    ADMITTED  \n",
      "2      F                   WHITE         AMBULANCE        HOME  \n",
      "3      F                   WHITE         AMBULANCE    ADMITTED  \n",
      "4      F                   WHITE         AMBULANCE    ADMITTED  \n",
      "Diagnosis Data:    subject_id   stay_id  seq_num icd_code  icd_version  \\\n",
      "0    10025463  35470228        1      431            9   \n",
      "1    10027602  36678718        1      431            9   \n",
      "2    10009049  31628990        1      486            9   \n",
      "3    10014078  38676365        1     3453            9   \n",
      "4    10007928  39661025        1     5780            9   \n",
      "\n",
      "                        icd_title  \n",
      "0        INTRACEREBRAL HEMORRHAGE  \n",
      "1        INTRACEREBRAL HEMORRHAGE  \n",
      "2  PNEUMONIA,ORGANISM UNSPECIFIED  \n",
      "3                GRAND MAL STATUS  \n",
      "4                     HEMATEMESIS  \n"
     ]
    }
   ],
   "source": [
    "\n",
    "\n",
    "# # Inspect the first few rows of each file\n",
    "# print(\"Vitalsign Data:\", vitalsign_df.head())\n",
    "# print(\"Triage Data:\", triage_df.head())\n",
    "# print(\"Pyxis Data:\", pyxis_df.head())\n",
    "# print(\"MedReconciliation Data:\", medrecon_df.head())\n",
    "# print(\"ED Stays Data:\", edstays_df.head())\n",
    "# print(\"Diagnosis Data:\", diagnosis_df.head())"
   ]
  },
  {
   "cell_type": "code",
   "execution_count": null,
   "metadata": {},
   "outputs": [],
   "source": []
  },
  {
   "cell_type": "code",
   "execution_count": null,
   "metadata": {},
   "outputs": [],
   "source": []
  }
 ],
 "metadata": {
  "kernelspec": {
   "display_name": "Python 3 (ipykernel)",
   "language": "python",
   "name": "python3"
  },
  "language_info": {
   "codemirror_mode": {
    "name": "ipython",
    "version": 3
   },
   "file_extension": ".py",
   "mimetype": "text/x-python",
   "name": "python",
   "nbconvert_exporter": "python",
   "pygments_lexer": "ipython3",
   "version": "3.12.1"
  }
 },
 "nbformat": 4,
 "nbformat_minor": 2
}
